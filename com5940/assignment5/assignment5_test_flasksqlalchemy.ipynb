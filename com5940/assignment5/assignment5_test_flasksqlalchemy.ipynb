{
 "cells": [
  {
   "cell_type": "code",
   "execution_count": 4,
   "metadata": {},
   "outputs": [],
   "source": [
    "import pymysql\n",
    "pymysql.install_as_MySQLdb()"
   ]
  },
  {
   "cell_type": "code",
   "execution_count": 5,
   "metadata": {},
   "outputs": [],
   "source": [
    "from shopping_model import *"
   ]
  },
  {
   "cell_type": "code",
   "execution_count": 6,
   "metadata": {},
   "outputs": [
    {
     "name": "stdout",
     "output_type": "stream",
     "text": [
      "('Melrose Avenue', 'Shopping District', 'Depends on each store ', '$$')\n",
      "('Rose Bowl Flea Market', 'Market', '323-560-7469', '$$')\n",
      "('Grand Central Market', 'Market', '213-624-2378', '$$')\n",
      "('The Grove', 'Shopping mall', '323-900-8080', '$$')\n",
      "('Beverly Center', 'Shopping mall', '310-854-0070', '$$')\n",
      "('Hollywood & Highland Center', 'Shopping mall', '323-817-0200', '$$')\n",
      "('Luxe De Ville', 'Vintage', '213-353-0135', '$$')\n",
      "('Bo Bridges Gallery', 'Art', '310-443-7000', '$$')\n",
      "('The Last Bookstore', 'Books', '213-488-0599', '$$')\n",
      "('Trader Joes ', 'Grocery store', ' 562-422-1020', '$')\n"
     ]
    }
   ],
   "source": [
    "result = db.engine.execute('select * from top_shopping')\n",
    "for i in result:\n",
    "    print(i)"
   ]
  },
  {
   "cell_type": "code",
   "execution_count": 7,
   "metadata": {},
   "outputs": [
    {
     "name": "stdout",
     "output_type": "stream",
     "text": [
      "[{'Name': 'Melrose Avenue', 'Types': 'Shopping District', 'Phone': 'Depends on each store ', 'Price': '$$'}, {'Name': 'Rose Bowl Flea Market', 'Types': 'Market', 'Phone': '323-560-7469', 'Price': '$$'}, {'Name': 'Grand Central Market', 'Types': 'Market', 'Phone': '213-624-2378', 'Price': '$$'}, {'Name': 'The Grove', 'Types': 'Shopping mall', 'Phone': '323-900-8080', 'Price': '$$'}, {'Name': 'Beverly Center', 'Types': 'Shopping mall', 'Phone': '310-854-0070', 'Price': '$$'}, {'Name': 'Hollywood & Highland Center', 'Types': 'Shopping mall', 'Phone': '323-817-0200', 'Price': '$$'}, {'Name': 'Luxe De Ville', 'Types': 'Vintage', 'Phone': '213-353-0135', 'Price': '$$'}, {'Name': 'Bo Bridges Gallery', 'Types': 'Art', 'Phone': '310-443-7000', 'Price': '$$'}, {'Name': 'The Last Bookstore', 'Types': 'Books', 'Phone': '213-488-0599', 'Price': '$$'}, {'Name': 'Trader Joes ', 'Types': 'Grocery store', 'Phone': ' 562-422-1020', 'Price': '$'}]\n"
     ]
    }
   ],
   "source": [
    "result = db.engine.execute('select * from top_shopping')\n",
    "final_result = [list(i) for i in result]\n",
    "dataset=[]\n",
    "dict={}\n",
    "for i in final_result:\n",
    "    dict['Name'] = i[0]\n",
    "    dict['Types'] = i[1]\n",
    "    dict['Phone'] = i[2]\n",
    "    dict['Price'] = i[3]\n",
    "    # print(i)\n",
    "    # print(dict)\n",
    "    dataset.append(dict.copy()) #markers.append(fld.copy())\n",
    "print(dataset)"
   ]
  },
  {
   "cell_type": "code",
   "execution_count": null,
   "metadata": {},
   "outputs": [],
   "source": []
  }
 ],
 "metadata": {
  "kernelspec": {
   "display_name": "Python 3",
   "language": "python",
   "name": "python3"
  },
  "language_info": {
   "codemirror_mode": {
    "name": "ipython",
    "version": 3
   },
   "file_extension": ".py",
   "mimetype": "text/x-python",
   "name": "python",
   "nbconvert_exporter": "python",
   "pygments_lexer": "ipython3",
   "version": "3.7.4"
  }
 },
 "nbformat": 4,
 "nbformat_minor": 2
}
