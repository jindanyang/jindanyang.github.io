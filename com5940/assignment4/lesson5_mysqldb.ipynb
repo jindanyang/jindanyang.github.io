{
 "cells": [
  {
   "cell_type": "code",
   "execution_count": 1,
   "metadata": {},
   "outputs": [
    {
     "name": "stdout",
     "output_type": "stream",
     "text": [
      "Requirement already satisfied: pymysql in ./opt/anaconda3/lib/python3.7/site-packages (0.9.3)\n",
      "Note: you may need to restart the kernel to use updated packages.\n"
     ]
    }
   ],
   "source": [
    "pip install pymysql"
   ]
  },
  {
   "cell_type": "code",
   "execution_count": null,
   "metadata": {},
   "outputs": [
    {
     "name": "stderr",
     "output_type": "stream",
     "text": [
      " * Running on http://localhost:9010/ (Press CTRL+C to quit)\n",
      "127.0.0.1 - - [08/Mar/2020 20:32:48] \"GET / HTTP/1.1\" 200 -\n",
      "127.0.0.1 - - [08/Mar/2020 20:32:48] \"GET /287160_10150272017483063_2237797_o.jpg HTTP/1.1\" 404 -\n",
      "127.0.0.1 - - [08/Mar/2020 20:32:48] \"GET /2018-11-11.jpg HTTP/1.1\" 404 -\n",
      "127.0.0.1 - - [08/Mar/2020 20:32:48] \"GET /10.jpg HTTP/1.1\" 404 -\n",
      "127.0.0.1 - - [08/Mar/2020 20:32:48] \"GET /0.jpg HTTP/1.1\" 404 -\n",
      "127.0.0.1 - - [08/Mar/2020 20:32:48] \"GET /2018-11-05.jpg HTTP/1.1\" 404 -\n",
      "127.0.0.1 - - [08/Mar/2020 20:32:48] \"GET /2017-06-12.jpg HTTP/1.1\" 404 -\n",
      "127.0.0.1 - - [08/Mar/2020 20:32:48] \"GET /IMG_20171231_122734.jpg HTTP/1.1\" 404 -\n",
      "127.0.0.1 - - [08/Mar/2020 20:32:48] \"GET /Screen HTTP/1.1\" 404 -\n",
      "127.0.0.1 - - [08/Mar/2020 20:32:48] \"GET /H01A9058.jpg HTTP/1.1\" 404 -\n",
      "127.0.0.1 - - [08/Mar/2020 20:32:48] \"GET /2017-08-09.jpg HTTP/1.1\" 404 -\n"
     ]
    }
   ],
   "source": [
    "from flask import Flask, render_template, jsonify\n",
    "# import pymysql.cursors #initialise PyMysql module\n",
    "import pymysql\n",
    "\n",
    "app = Flask(__name__)\n",
    "# CORS(app)\n",
    "\n",
    "# connection = pymysql.connect(host=\"localhost\", \n",
    "connection = pymysql.connect(host=\"localhost\",\n",
    "                     user=\"root\",   \n",
    "                     passwd=\"root\", \n",
    "                     db=\"comm5940\",   \n",
    "                     charset='utf8mb4')      \n",
    "                     # cursorclass=pymysql.cursors.DictCursor)\n",
    "\n",
    "@app.route(\"/\")\n",
    "def home():\n",
    "    user = {\"name\":\"Danyang\"}\n",
    "    with connection.cursor() as cursor:\n",
    "        sql = \"SELECT * FROM top_shopping\"\n",
    "        cursor.execute(sql)\n",
    "        # Display results\n",
    "        result = cursor.fetchall()\n",
    "    connection.close()\n",
    "    # print(result)\n",
    "    # print('\\n')\n",
    "    final_result = [list(i) for i in result]\n",
    "    dataset=[]\n",
    "    dict={}\n",
    "    for i in final_result:\n",
    "        dict['Name'] = i[0]\n",
    "        dict['Types'] = i[1]\n",
    "        dict['Phone'] = i[2]\n",
    "        dict['Address'] = i[3]\n",
    "        dict['Price'] = i[4]\n",
    "        dict['Website'] = i[5]\n",
    "        dict['Hours'] = i[6]\n",
    "        dict['Picture'] = i[7]\n",
    "        dict['Picture_url'] = i[8]\n",
    "        # print(i)\n",
    "        # print(dict)\n",
    "        dataset.append(dict.copy()) #markers.append(fld.copy())\n",
    "    \n",
    "    return render_template('home.html',album_user=user, dataset=dataset)\n",
    "\n",
    "if __name__ == '__main__':\n",
    "    from werkzeug.serving import run_simple\n",
    "    run_simple('localhost', 9010, app)"
   ]
  },
  {
   "cell_type": "code",
   "execution_count": null,
   "metadata": {},
   "outputs": [],
   "source": []
  },
  {
   "cell_type": "code",
   "execution_count": null,
   "metadata": {},
   "outputs": [],
   "source": []
  }
 ],
 "metadata": {
  "kernelspec": {
   "display_name": "Python 3",
   "language": "python",
   "name": "python3"
  },
  "language_info": {
   "codemirror_mode": {
    "name": "ipython",
    "version": 3
   },
   "file_extension": ".py",
   "mimetype": "text/x-python",
   "name": "python",
   "nbconvert_exporter": "python",
   "pygments_lexer": "ipython3",
   "version": "3.7.4"
  }
 },
 "nbformat": 4,
 "nbformat_minor": 2
}
